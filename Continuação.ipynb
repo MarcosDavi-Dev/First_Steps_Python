{
  "nbformat": 4,
  "nbformat_minor": 0,
  "metadata": {
    "colab": {
      "provenance": [],
      "authorship_tag": "ABX9TyM3nYujtNzkXFm+ezIslQkJ",
      "include_colab_link": true
    },
    "kernelspec": {
      "name": "python3",
      "display_name": "Python 3"
    },
    "language_info": {
      "name": "python"
    }
  },
  "cells": [
    {
      "cell_type": "markdown",
      "metadata": {
        "id": "view-in-github",
        "colab_type": "text"
      },
      "source": [
        "<a href=\"https://colab.research.google.com/github/MarcosDaviDev/Primeiros-Passos/blob/main/Continua%C3%A7%C3%A3o.ipynb\" target=\"_parent\"><img src=\"https://colab.research.google.com/assets/colab-badge.svg\" alt=\"Open In Colab\"/></a>"
      ]
    },
    {
      "cell_type": "markdown",
      "source": [
        "# **Introdução à Linguagem Python**\n",
        "*Descomplica*\n",
        "> **Aula 2**\n",
        "\n",
        "\n"
      ],
      "metadata": {
        "id": "ft8e62K_lhaR"
      }
    },
    {
      "cell_type": "code",
      "source": [
        "# exemplo de String\n",
        "nome = 'Maria da Silva'\n",
        "print(nome[0])\n",
        "print(nome[0:5])\n",
        "print(nome[1:])\n",
        "print(nome[-1])\n",
        "print(nome[:-1])\n",
        "print(nome[-3])"
      ],
      "metadata": {
        "id": "GCGltlADmB14"
      },
      "execution_count": null,
      "outputs": []
    },
    {
      "cell_type": "code",
      "source": [
        "# Criando listas:\n",
        "\n",
        "l = [] # lista vazia\n",
        "x = [10, 15, 20] # cria uma lista com três elementos\n",
        "x.append(int(input('Digite um número para as listas: '))) # 8\n",
        "\n",
        "# imprimindo cada elemento da lista:\n",
        "print(x[0])\n",
        "print(x[1])\n",
        "print(x[2])\n",
        "\n",
        "# incluindo um valor para lista l\n",
        "l.append('José')\n",
        "l.append('Maria')\n",
        "\n",
        "print(x)\n",
        "print(l)\n",
        "\n",
        "print(x[1:3])\n",
        "print(len(x))\n",
        "del(x[1])\n",
        "print(x)\n"
      ],
      "metadata": {
        "id": "6GuPiLedneH5"
      },
      "execution_count": null,
      "outputs": []
    },
    {
      "cell_type": "code",
      "source": [
        "# Exercício prático 2\n",
        "lista = []\n",
        "tupla = (1,2,3,4,5)\n",
        "dicionario = {'João': 12, 'Maria': 15, 'Gabriel': 18}\n",
        "\n",
        "print('Digite três números(para confirmar um número pressione a tecla Enter)')\n",
        "for _ in range(3):\n",
        "    numero = int(input('Digite um número para a lista: '))\n",
        "    lista.append(numero)\n",
        "print()\n",
        "print(f'lista: {lista}')\n",
        "print(f'tupla: {tupla}')\n",
        "print(f'dicionário: {dicionario}')"
      ],
      "metadata": {
        "id": "xFQAcq3mpuMD"
      },
      "execution_count": null,
      "outputs": []
    },
    {
      "cell_type": "markdown",
      "source": [
        "**Aula 3**"
      ],
      "metadata": {
        "id": "Y1dmc-8RMzkK"
      }
    },
    {
      "cell_type": "code",
      "source": [
        "# programa que recebe um número e verifica se é primo\n",
        "\n",
        "print('Digite abaixo um número para verificar se ele é primo ou não.')\n",
        "numero = int(input('Insira um número: '))\n",
        "\n",
        "if numero > 1:\n",
        "    for i in range(2, int(numero/2) + 1):\n",
        "        if (numero % i) == 0:\n",
        "            print('O número não é primo.')\n",
        "            break\n",
        "    else:\n",
        "        print('Este número é primo.')\n",
        "else:\n",
        "    print('O número não é primo.')"
      ],
      "metadata": {
        "id": "N98bMAOnM4RT"
      },
      "execution_count": null,
      "outputs": []
    }
  ]
}